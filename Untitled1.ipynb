{
 "cells": [
  {
   "cell_type": "code",
   "execution_count": 5,
   "metadata": {},
   "outputs": [
    {
     "name": "stdout",
     "output_type": "stream",
     "text": [
      "__name__\n",
      "__doc__\n",
      "__package__\n",
      "__loader__\n",
      "__spec__\n",
      "__path__\n",
      "__file__\n",
      "__cached__\n",
      "__builtins__\n",
      "densenet\n",
      "inception_resnet_v2\n",
      "inception_v3\n",
      "mobilenet\n",
      "mobilenet_v2\n",
      "nasnet\n",
      "resnet50\n",
      "vgg16\n",
      "vgg19\n",
      "xception\n",
      "DenseNet121\n",
      "DenseNet169\n",
      "DenseNet201\n",
      "InceptionResNetV2\n",
      "InceptionV3\n",
      "MobileNet\n",
      "MobileNetV2\n",
      "NASNetLarge\n",
      "NASNetMobile\n",
      "ResNet50\n",
      "VGG16\n",
      "VGG19\n",
      "Xception\n"
     ]
    }
   ],
   "source": [
    "import tensorflow as tf\n",
    "\n",
    "#print(tf.keras.applications.__dict__)\n",
    "for e in tf.keras.applications.__dict__:\n",
    "    print(e)"
   ]
  },
  {
   "cell_type": "code",
   "execution_count": null,
   "metadata": {},
   "outputs": [],
   "source": []
  }
 ],
 "metadata": {
  "kernelspec": {
   "display_name": "Python 3",
   "language": "python",
   "name": "python3"
  },
  "language_info": {
   "codemirror_mode": {
    "name": "ipython",
    "version": 3
   },
   "file_extension": ".py",
   "mimetype": "text/x-python",
   "name": "python",
   "nbconvert_exporter": "python",
   "pygments_lexer": "ipython3",
   "version": "3.7.1"
  }
 },
 "nbformat": 4,
 "nbformat_minor": 2
}
